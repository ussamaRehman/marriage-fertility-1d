{
 "cells": [
  {
   "cell_type": "markdown",
   "id": "da513887",
   "metadata": {},
   "source": [
    "Purpose: download/load marriage rate & fertility for chosen country"
   ]
  },
  {
   "cell_type": "markdown",
   "id": "77895bc0",
   "metadata": {},
   "source": [
    "To-do: decide country, paste sources"
   ]
  },
  {
   "cell_type": "markdown",
   "id": "32ee083f",
   "metadata": {},
   "source": [
    "Outputs: save raw CSVs"
   ]
  },
  {
   "cell_type": "code",
   "execution_count": 2,
   "id": "e8d38bfa",
   "metadata": {},
   "outputs": [],
   "source": [
    "import pandas as pd\n",
    "import pathlib\n",
    "\n",
    "RAW = pathlib.Path(\"../data/raw\")\n",
    "RAW.mkdir(parents=True, exist_ok=True)\n",
    "\n",
    "# TODO: add data fetch tomorrow"
   ]
  },
  {
   "cell_type": "code",
   "execution_count": 3,
   "id": "4a0a1a01",
   "metadata": {},
   "outputs": [
    {
     "name": "stdout",
     "output_type": "stream",
     "text": [
      "Python: /Users/ussama_rehman/Downloads/marriage-fertility-1d/.venv/bin/python\n",
      "Raw exists? True\n",
      "Wrote: /Users/ussama_rehman/Downloads/marriage-fertility-1d/data/raw/_smoketest.csv\n"
     ]
    }
   ],
   "source": [
    "import sys, numpy as np, pandas as pd, pathlib, json\n",
    "RAW = pathlib.Path(\"../data/raw\")\n",
    "print(\"Python:\", sys.executable)\n",
    "print(\"Raw exists?\", RAW.exists())\n",
    "pd.DataFrame({\"ok\":[1]}).to_csv(RAW/\"_smoketest.csv\", index=False)\n",
    "print(\"Wrote:\", (RAW/\"_smoketest.csv\").resolve())"
   ]
  }
 ],
 "metadata": {
  "kernelspec": {
   "display_name": "Python (marriage-fertility-1d)",
   "language": "python",
   "name": "marriage-fertility-1d"
  },
  "language_info": {
   "codemirror_mode": {
    "name": "ipython",
    "version": 3
   },
   "file_extension": ".py",
   "mimetype": "text/x-python",
   "name": "python",
   "nbconvert_exporter": "python",
   "pygments_lexer": "ipython3",
   "version": "3.13.1"
  }
 },
 "nbformat": 4,
 "nbformat_minor": 5
}
