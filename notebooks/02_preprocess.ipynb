{
 "cells": [
  {
   "cell_type": "markdown",
   "id": "2fa36b0e",
   "metadata": {},
   "source": [
    "1) Setup paths"
   ]
  },
  {
   "cell_type": "code",
   "execution_count": 15,
   "id": "65181564",
   "metadata": {},
   "outputs": [],
   "source": [
    "import pandas as pd\n",
    "from pathlib import Path\n",
    "\n",
    "RAW = Path(\"../data/raw\")\n",
    "PROC = Path(\"../data/processed\")\n",
    "PROC.mkdir(parents=True, exist_ok=True)\n",
    "\n",
    "COUNTRY_CODE = \"KOR\""
   ]
  },
  {
   "cell_type": "markdown",
   "id": "6fb43c5e",
   "metadata": {},
   "source": [
    "2) Load & reshape Fertility (World Bank)"
   ]
  },
  {
   "cell_type": "code",
   "execution_count": 16,
   "id": "89f0d37e",
   "metadata": {},
   "outputs": [
    {
     "name": "stdout",
     "output_type": "stream",
     "text": [
      "   year  fertility\n",
      "0  1960      5.994\n",
      "1  1961      5.803\n",
      "2  1962      5.562\n",
      "3  1963      5.334\n",
      "4  1964      5.068     year  fertility\n",
      "59  2019      0.918\n",
      "60  2020      0.837\n",
      "61  2021      0.808\n",
      "62  2022      0.778\n",
      "63  2023      0.721 (64, 2)\n",
      "fert: (64, 2) ['year', 'fertility']\n"
     ]
    }
   ],
   "source": [
    "# Try the common WB format (skip the 4-line header)\n",
    "fert_raw = pd.read_csv(RAW / \"KOR_fertility_raw.csv\", skiprows=4)\n",
    "\n",
    "# If you accidentally saved a single-country slice with no header rows,\n",
    "# the following line won’t hurt; we’ll still filter by code when present.\n",
    "if \"Country Code\" in fert_raw.columns:\n",
    "    fert_kr = fert_raw[fert_raw[\"Country Code\"] == COUNTRY_CODE].copy()\n",
    "else:\n",
    "    # Fallback: keep the whole frame (already country-only)\n",
    "    fert_kr = fert_raw.copy()\n",
    "\n",
    "# Drop non-year metadata columns if present\n",
    "for col in [\"Country Name\",\"Country Code\",\"Indicator Name\",\"Indicator Code\"]:\n",
    "    if col in fert_kr.columns:\n",
    "        fert_kr = fert_kr.drop(columns=col)\n",
    "\n",
    "# Wide -> long: years to rows\n",
    "fert_kr = fert_kr.melt(var_name=\"year\", value_name=\"fertility\").dropna()\n",
    "fert_kr[\"year\"] = fert_kr[\"year\"].astype(int)\n",
    "\n",
    "print(fert_kr.head(), fert_kr.tail(), fert_kr.shape)\n",
    "\n",
    "# ... your fertility loading/reshaping code above ...\n",
    "# fert_kr has columns: year, fertility\n",
    "fert = fert_kr[[\"year\", \"fertility\"]].copy()   # <-- add this line\n",
    "print(\"fert:\", fert.shape, fert.columns.tolist())"
   ]
  },
  {
   "cell_type": "markdown",
   "id": "27e485e0",
   "metadata": {},
   "source": [
    "3) Load & reshape Marriage rate (OWID)"
   ]
  },
  {
   "cell_type": "code",
   "execution_count": 18,
   "id": "0947e65f",
   "metadata": {},
   "outputs": [
    {
     "name": "stdout",
     "output_type": "stream",
     "text": [
      "   year  marriage_rate\n",
      "0  1970            9.2\n",
      "1  1971            7.3\n",
      "2  1972            7.3\n",
      "3  1973            7.6\n",
      "4  1974            7.5     year  marriage_rate\n",
      "46  2016            5.5\n",
      "47  2017            5.2\n",
      "48  2018            5.0\n",
      "49  2019            4.7\n",
      "50  2020            4.2 (51, 2)\n"
     ]
    }
   ],
   "source": [
    "import pandas as pd\n",
    "\n",
    "mar = pd.read_csv(RAW / \"KOR_marriage_rate_raw.csv\")\n",
    "\n",
    "# If multiple countries are present, keep KOR only (safe even if already filtered)\n",
    "if \"Code\" in mar.columns:\n",
    "    mar = mar[mar[\"Code\"] == COUNTRY_CODE].copy()\n",
    "\n",
    "# Normalize column names to what we expect\n",
    "mar = mar.rename(columns={\n",
    "    \"Year\": \"year\",\n",
    "    \"Crude marriage rate (marriages per 1,000 people)\": \"marriage_rate\",\n",
    "    \"marriage-rate-per-1000-inhabitants\": \"marriage_rate\"  # alternative OWID header\n",
    "})\n",
    "\n",
    "# Validate presence\n",
    "expected_cols = [\"year\", \"marriage_rate\"]\n",
    "missing = [c for c in expected_cols if c not in mar.columns]\n",
    "if missing:\n",
    "    raise ValueError(\n",
    "        f\"Marriage CSV missing expected columns: {missing}\\nColumns present: {mar.columns.tolist()}\"\n",
    "    )\n",
    "\n",
    "# Keep, coerce types, drop NAs\n",
    "mar = mar[expected_cols].copy()\n",
    "mar[\"year\"] = pd.to_numeric(mar[\"year\"], errors=\"coerce\").astype(\"Int64\")\n",
    "mar[\"marriage_rate\"] = pd.to_numeric(mar[\"marriage_rate\"], errors=\"coerce\")\n",
    "mar = mar.dropna(subset=[\"year\", \"marriage_rate\"]).astype({\"year\": int}).reset_index(drop=True)\n",
    "\n",
    "print(mar.head(), mar.tail(), mar.shape)"
   ]
  },
  {
   "cell_type": "markdown",
   "id": "6ad7c214",
   "metadata": {},
   "source": [
    "4) Align years to the overlap (1970–2020) and save processed files"
   ]
  },
  {
   "cell_type": "code",
   "execution_count": 19,
   "id": "e6279e4b",
   "metadata": {},
   "outputs": [
    {
     "name": "stdout",
     "output_type": "stream",
     "text": [
      "Saved: [PosixPath('../data/processed/KOR_aligned.csv'), PosixPath('../data/processed/KOR_marriage_rate.csv'), PosixPath('../data/processed/KOR_fertility.csv')]\n",
      "Aligned shape: (51, 3)\n",
      "   year  fertility  marriage_rate\n",
      "0  1970       4.53            9.2\n",
      "1  1971       4.54            7.3\n",
      "2  1972       4.12            7.3\n",
      "3  1973       4.07            7.6\n",
      "4  1974       3.77            7.5\n",
      "    year  fertility  marriage_rate\n",
      "46  2016      1.172            5.5\n",
      "47  2017      1.052            5.2\n",
      "48  2018      0.977            5.0\n",
      "49  2019      0.918            4.7\n",
      "50  2020      0.837            4.2\n"
     ]
    }
   ],
   "source": [
    "# Align years 1970–2020 for Korea\n",
    "START, END = 1970, 2020\n",
    "\n",
    "# Fertility (should already be in tidy form: year, fertility)\n",
    "fert = fert[(fert[\"year\"] >= START) & (fert[\"year\"] <= END)].copy()\n",
    "\n",
    "# Marriage (now clean: year, marriage_rate)\n",
    "mar = mar[(mar[\"year\"] >= START) & (mar[\"year\"] <= END)].copy()\n",
    "\n",
    "# Merge on year\n",
    "aligned = pd.merge(fert, mar, on=\"year\", how=\"inner\")\n",
    "\n",
    "# Save outputs\n",
    "fert.to_csv(PROC / \"KOR_fertility.csv\", index=False)\n",
    "mar.to_csv(PROC / \"KOR_marriage_rate.csv\", index=False)\n",
    "aligned.to_csv(PROC / \"KOR_aligned.csv\", index=False)\n",
    "\n",
    "print(\"Saved:\", list(PROC.glob(\"KOR_*.csv\")))\n",
    "print(\"Aligned shape:\", aligned.shape)\n",
    "print(aligned.head())\n",
    "print(aligned.tail())"
   ]
  },
  {
   "cell_type": "markdown",
   "id": "e0a7a019",
   "metadata": {},
   "source": [
    "5) (Optional) Quick visual sanity check"
   ]
  },
  {
   "cell_type": "code",
   "execution_count": 21,
   "id": "17372f3a",
   "metadata": {},
   "outputs": [
    {
     "data": {
      "text/html": [
       "<div>\n",
       "<style scoped>\n",
       "    .dataframe tbody tr th:only-of-type {\n",
       "        vertical-align: middle;\n",
       "    }\n",
       "\n",
       "    .dataframe tbody tr th {\n",
       "        vertical-align: top;\n",
       "    }\n",
       "\n",
       "    .dataframe thead th {\n",
       "        text-align: right;\n",
       "    }\n",
       "</style>\n",
       "<table border=\"1\" class=\"dataframe\">\n",
       "  <thead>\n",
       "    <tr style=\"text-align: right;\">\n",
       "      <th></th>\n",
       "      <th>year</th>\n",
       "      <th>fertility</th>\n",
       "      <th>marriage_rate</th>\n",
       "    </tr>\n",
       "  </thead>\n",
       "  <tbody>\n",
       "    <tr>\n",
       "      <th>0</th>\n",
       "      <td>1970</td>\n",
       "      <td>4.53</td>\n",
       "      <td>9.2</td>\n",
       "    </tr>\n",
       "    <tr>\n",
       "      <th>1</th>\n",
       "      <td>1971</td>\n",
       "      <td>4.54</td>\n",
       "      <td>7.3</td>\n",
       "    </tr>\n",
       "    <tr>\n",
       "      <th>2</th>\n",
       "      <td>1972</td>\n",
       "      <td>4.12</td>\n",
       "      <td>7.3</td>\n",
       "    </tr>\n",
       "    <tr>\n",
       "      <th>3</th>\n",
       "      <td>1973</td>\n",
       "      <td>4.07</td>\n",
       "      <td>7.6</td>\n",
       "    </tr>\n",
       "    <tr>\n",
       "      <th>4</th>\n",
       "      <td>1974</td>\n",
       "      <td>3.77</td>\n",
       "      <td>7.5</td>\n",
       "    </tr>\n",
       "  </tbody>\n",
       "</table>\n",
       "</div>"
      ],
      "text/plain": [
       "   year  fertility  marriage_rate\n",
       "0  1970       4.53            9.2\n",
       "1  1971       4.54            7.3\n",
       "2  1972       4.12            7.3\n",
       "3  1973       4.07            7.6\n",
       "4  1974       3.77            7.5"
      ]
     },
     "execution_count": 21,
     "metadata": {},
     "output_type": "execute_result"
    }
   ],
   "source": [
    "import pandas as pd\n",
    "from pathlib import Path\n",
    "\n",
    "df = pd.read_csv(Path(\"../data/processed/KOR_aligned.csv\"))\n",
    "df.head()"
   ]
  },
  {
   "cell_type": "code",
   "execution_count": 23,
   "id": "503d63ab",
   "metadata": {},
   "outputs": [
    {
     "data": {
      "image/png": "[encoded data removed]",
      "text/plain": [
       "<Figure size 1500x400 with 3 Axes>"
      ]
     },
     "metadata": {},
     "output_type": "display_data"
    }
   ],
   "source": [
    "import matplotlib.pyplot as plt\n",
    "\n",
    "fig, axes = plt.subplots(1, 3, figsize=(15, 4))\n",
    "\n",
    "# Fertility over time\n",
    "axes[0].plot(df[\"year\"], df[\"fertility\"], color=\"tab:blue\")\n",
    "axes[0].set_title(\"Fertility (births per woman)\")\n",
    "axes[0].set_xlabel(\"Year\")\n",
    "axes[0].set_ylabel(\"Fertility\")\n",
    "\n",
    "# Marriage rate over time\n",
    "axes[1].plot(df[\"year\"], df[\"marriage_rate\"], color=\"tab:orange\")\n",
    "axes[1].set_title(\"Marriage rate (per 1,000)\")\n",
    "axes[1].set_xlabel(\"Year\")\n",
    "axes[1].set_ylabel(\"Marriage rate\")\n",
    "\n",
    "# Scatter plot (correlation)\n",
    "axes[2].scatter(df[\"marriage_rate\"], df[\"fertility\"], color=\"tab:green\")\n",
    "axes[2].set_title(\"Fertility vs Marriage rate\")\n",
    "axes[2].set_xlabel(\"Marriage rate (per 1,000)\")\n",
    "axes[2].set_ylabel(\"Fertility\")\n",
    "\n",
    "plt.tight_layout()\n",
    "plt.show()"
   ]
  },
  {
   "cell_type": "markdown",
   "id": "0913d6e7",
   "metadata": {},
   "source": [
    "Compute the Pearson correlation coefficient"
   ]
  },
  {
   "cell_type": "code",
   "execution_count": 24,
   "id": "0143d426",
   "metadata": {},
   "outputs": [
    {
     "name": "stdout",
     "output_type": "stream",
     "text": [
      "Correlation (fertility vs marriage rate): 0.392\n"
     ]
    }
   ],
   "source": [
    "corr = df[\"fertility\"].corr(df[\"marriage_rate\"])\n",
    "print(f\"Correlation (fertility vs marriage rate): {corr:.3f}\")"
   ]
  }
 ],
 "metadata": {
  "kernelspec": {
   "display_name": "Python (marriage-fertility-1d)",
   "language": "python",
   "name": "marriage-fertility-1d"
  },
  "language_info": {
   "codemirror_mode": {
    "name": "ipython",
    "version": 3
   },
   "file_extension": ".py",
   "mimetype": "text/x-python",
   "name": "python",
   "nbconvert_exporter": "python",
   "pygments_lexer": "ipython3",
   "version": "3.13.1"
  }
 },
 "nbformat": 4,
 "nbformat_minor": 5
}
